{
 "cells": [
  {
   "cell_type": "code",
   "execution_count": 1,
   "id": "dbe63e33",
   "metadata": {
    "execution": {
     "iopub.execute_input": "2022-08-31T09:14:04.077896Z",
     "iopub.status.busy": "2022-08-31T09:14:04.077290Z",
     "iopub.status.idle": "2022-08-31T09:14:21.912734Z",
     "shell.execute_reply": "2022-08-31T09:14:21.911528Z"
    },
    "papermill": {
     "duration": 17.851836,
     "end_time": "2022-08-31T09:14:21.915854",
     "exception": false,
     "start_time": "2022-08-31T09:14:04.064018",
     "status": "completed"
    },
    "tags": []
   },
   "outputs": [],
   "source": [
    "import numpy as np\n",
    "import pandas as pd\n",
    "import matplotlib.pyplot as plt\n",
    "import seaborn as sns\n",
    "from sklearn.model_selection import KFold,StratifiedKFold\n",
    "from sklearn.preprocessing import LabelEncoder,OneHotEncoder\n",
    "import warnings\n",
    "from sklearn.metrics import r2_score,roc_auc_score\n",
    "import random\n",
    "from sklearn.linear_model import LogisticRegression,HuberRegressor\n",
    "from sklearn.impute import KNNImputer\n",
    "from sklearn.preprocessing import StandardScaler,PowerTransformer\n",
    "from sklearn.metrics import roc_auc_score\n",
    "from imblearn.under_sampling import NearMiss, ClusterCentroids\n",
    "from imblearn.over_sampling import SMOTE\n",
    "import feature_engine as fe\n",
    "from feature_engine.encoding import WoEEncoder\n",
    "\n",
    "from colorama import Fore, Back, Style\n",
    "\n",
    "sns.set()\n",
    "\n",
    "warnings.filterwarnings(\"ignore\")"
   ]
  },
  {
   "cell_type": "markdown",
   "id": "ff5069ce",
   "metadata": {
    "papermill": {
     "duration": 0.010295,
     "end_time": "2022-08-31T09:14:21.937782",
     "exception": false,
     "start_time": "2022-08-31T09:14:21.927487",
     "status": "completed"
    },
    "tags": []
   },
   "source": [
    "#### Read the data"
   ]
  },
  {
   "cell_type": "code",
   "execution_count": 2,
   "id": "2f2e96fa",
   "metadata": {
    "execution": {
     "iopub.execute_input": "2022-08-31T09:14:21.961279Z",
     "iopub.status.busy": "2022-08-31T09:14:21.960821Z",
     "iopub.status.idle": "2022-08-31T09:14:22.261596Z",
     "shell.execute_reply": "2022-08-31T09:14:22.260502Z"
    },
    "papermill": {
     "duration": 0.316104,
     "end_time": "2022-08-31T09:14:22.264494",
     "exception": false,
     "start_time": "2022-08-31T09:14:21.948390",
     "status": "completed"
    },
    "tags": []
   },
   "outputs": [
    {
     "data": {
      "text/html": [
       "<div>\n",
       "<style scoped>\n",
       "    .dataframe tbody tr th:only-of-type {\n",
       "        vertical-align: middle;\n",
       "    }\n",
       "\n",
       "    .dataframe tbody tr th {\n",
       "        vertical-align: top;\n",
       "    }\n",
       "\n",
       "    .dataframe thead th {\n",
       "        text-align: right;\n",
       "    }\n",
       "</style>\n",
       "<table border=\"1\" class=\"dataframe\">\n",
       "  <thead>\n",
       "    <tr style=\"text-align: right;\">\n",
       "      <th></th>\n",
       "      <th>id</th>\n",
       "      <th>product_code</th>\n",
       "      <th>loading</th>\n",
       "      <th>attribute_0</th>\n",
       "      <th>attribute_1</th>\n",
       "      <th>attribute_2</th>\n",
       "      <th>attribute_3</th>\n",
       "      <th>measurement_0</th>\n",
       "      <th>measurement_1</th>\n",
       "      <th>measurement_2</th>\n",
       "      <th>...</th>\n",
       "      <th>measurement_9</th>\n",
       "      <th>measurement_10</th>\n",
       "      <th>measurement_11</th>\n",
       "      <th>measurement_12</th>\n",
       "      <th>measurement_13</th>\n",
       "      <th>measurement_14</th>\n",
       "      <th>measurement_15</th>\n",
       "      <th>measurement_16</th>\n",
       "      <th>measurement_17</th>\n",
       "      <th>failure</th>\n",
       "    </tr>\n",
       "  </thead>\n",
       "  <tbody>\n",
       "    <tr>\n",
       "      <th>0</th>\n",
       "      <td>0</td>\n",
       "      <td>A</td>\n",
       "      <td>80.10</td>\n",
       "      <td>material_7</td>\n",
       "      <td>material_8</td>\n",
       "      <td>9</td>\n",
       "      <td>5</td>\n",
       "      <td>7</td>\n",
       "      <td>8</td>\n",
       "      <td>4</td>\n",
       "      <td>...</td>\n",
       "      <td>10.672</td>\n",
       "      <td>15.859</td>\n",
       "      <td>17.594</td>\n",
       "      <td>15.193</td>\n",
       "      <td>15.029</td>\n",
       "      <td>NaN</td>\n",
       "      <td>13.034</td>\n",
       "      <td>14.684</td>\n",
       "      <td>764.100</td>\n",
       "      <td>0</td>\n",
       "    </tr>\n",
       "    <tr>\n",
       "      <th>1</th>\n",
       "      <td>1</td>\n",
       "      <td>A</td>\n",
       "      <td>84.89</td>\n",
       "      <td>material_7</td>\n",
       "      <td>material_8</td>\n",
       "      <td>9</td>\n",
       "      <td>5</td>\n",
       "      <td>14</td>\n",
       "      <td>3</td>\n",
       "      <td>3</td>\n",
       "      <td>...</td>\n",
       "      <td>12.448</td>\n",
       "      <td>17.947</td>\n",
       "      <td>17.915</td>\n",
       "      <td>11.755</td>\n",
       "      <td>14.732</td>\n",
       "      <td>15.425</td>\n",
       "      <td>14.395</td>\n",
       "      <td>15.631</td>\n",
       "      <td>682.057</td>\n",
       "      <td>0</td>\n",
       "    </tr>\n",
       "    <tr>\n",
       "      <th>2</th>\n",
       "      <td>2</td>\n",
       "      <td>A</td>\n",
       "      <td>82.43</td>\n",
       "      <td>material_7</td>\n",
       "      <td>material_8</td>\n",
       "      <td>9</td>\n",
       "      <td>5</td>\n",
       "      <td>12</td>\n",
       "      <td>1</td>\n",
       "      <td>5</td>\n",
       "      <td>...</td>\n",
       "      <td>12.715</td>\n",
       "      <td>15.607</td>\n",
       "      <td>NaN</td>\n",
       "      <td>13.798</td>\n",
       "      <td>16.711</td>\n",
       "      <td>18.631</td>\n",
       "      <td>14.094</td>\n",
       "      <td>17.946</td>\n",
       "      <td>663.376</td>\n",
       "      <td>0</td>\n",
       "    </tr>\n",
       "    <tr>\n",
       "      <th>3</th>\n",
       "      <td>3</td>\n",
       "      <td>A</td>\n",
       "      <td>101.07</td>\n",
       "      <td>material_7</td>\n",
       "      <td>material_8</td>\n",
       "      <td>9</td>\n",
       "      <td>5</td>\n",
       "      <td>13</td>\n",
       "      <td>2</td>\n",
       "      <td>6</td>\n",
       "      <td>...</td>\n",
       "      <td>12.471</td>\n",
       "      <td>16.346</td>\n",
       "      <td>18.377</td>\n",
       "      <td>10.020</td>\n",
       "      <td>15.250</td>\n",
       "      <td>15.562</td>\n",
       "      <td>16.154</td>\n",
       "      <td>17.172</td>\n",
       "      <td>826.282</td>\n",
       "      <td>0</td>\n",
       "    </tr>\n",
       "    <tr>\n",
       "      <th>4</th>\n",
       "      <td>4</td>\n",
       "      <td>A</td>\n",
       "      <td>188.06</td>\n",
       "      <td>material_7</td>\n",
       "      <td>material_8</td>\n",
       "      <td>9</td>\n",
       "      <td>5</td>\n",
       "      <td>9</td>\n",
       "      <td>2</td>\n",
       "      <td>8</td>\n",
       "      <td>...</td>\n",
       "      <td>10.337</td>\n",
       "      <td>17.082</td>\n",
       "      <td>19.932</td>\n",
       "      <td>12.428</td>\n",
       "      <td>16.182</td>\n",
       "      <td>12.760</td>\n",
       "      <td>13.153</td>\n",
       "      <td>16.412</td>\n",
       "      <td>579.885</td>\n",
       "      <td>0</td>\n",
       "    </tr>\n",
       "  </tbody>\n",
       "</table>\n",
       "<p>5 rows × 26 columns</p>\n",
       "</div>"
      ],
      "text/plain": [
       "   id product_code  loading attribute_0 attribute_1  attribute_2  attribute_3  \\\n",
       "0   0            A    80.10  material_7  material_8            9            5   \n",
       "1   1            A    84.89  material_7  material_8            9            5   \n",
       "2   2            A    82.43  material_7  material_8            9            5   \n",
       "3   3            A   101.07  material_7  material_8            9            5   \n",
       "4   4            A   188.06  material_7  material_8            9            5   \n",
       "\n",
       "   measurement_0  measurement_1  measurement_2  ...  measurement_9  \\\n",
       "0              7              8              4  ...         10.672   \n",
       "1             14              3              3  ...         12.448   \n",
       "2             12              1              5  ...         12.715   \n",
       "3             13              2              6  ...         12.471   \n",
       "4              9              2              8  ...         10.337   \n",
       "\n",
       "   measurement_10  measurement_11  measurement_12  measurement_13  \\\n",
       "0          15.859          17.594          15.193          15.029   \n",
       "1          17.947          17.915          11.755          14.732   \n",
       "2          15.607             NaN          13.798          16.711   \n",
       "3          16.346          18.377          10.020          15.250   \n",
       "4          17.082          19.932          12.428          16.182   \n",
       "\n",
       "   measurement_14  measurement_15  measurement_16  measurement_17  failure  \n",
       "0             NaN          13.034          14.684         764.100        0  \n",
       "1          15.425          14.395          15.631         682.057        0  \n",
       "2          18.631          14.094          17.946         663.376        0  \n",
       "3          15.562          16.154          17.172         826.282        0  \n",
       "4          12.760          13.153          16.412         579.885        0  \n",
       "\n",
       "[5 rows x 26 columns]"
      ]
     },
     "metadata": {},
     "output_type": "display_data"
    },
    {
     "name": "stdout",
     "output_type": "stream",
     "text": [
      "Train data shape is = (26570, 26)\n",
      "Test data shape is = (20775, 25)\n",
      "\n",
      "\n",
      "Train data missing value is = 3.052013549115544\n",
      "Test data missing value is  = 3.0245968712394706\n"
     ]
    }
   ],
   "source": [
    "train = pd.read_csv(\"train.csv\")\n",
    "test = pd.read_csv(\"test.csv\")\n",
    "display(train.head())\n",
    "\n",
    "print(f'Train data shape is = {train.shape}')\n",
    "print(f'Test data shape is = {test.shape}')\n",
    "\n",
    "print(\"\\n\"*1)\n",
    "\n",
    "print(f'Train data missing value is = {format(100* train.isna().sum().sum()/(len(train)*25))}')\n",
    "print(f'Test data missing value is  = {format(100* test.isna().sum().sum()/(len(test)*25))}')"
   ]
  },
  {
   "cell_type": "code",
   "execution_count": 3,
   "id": "c9c8ddf2",
   "metadata": {
    "execution": {
     "iopub.execute_input": "2022-08-31T09:14:54.391684Z",
     "iopub.status.busy": "2022-08-31T09:14:54.390914Z",
     "iopub.status.idle": "2022-08-31T09:14:54.397924Z",
     "shell.execute_reply": "2022-08-31T09:14:54.396984Z"
    },
    "papermill": {
     "duration": 0.027533,
     "end_time": "2022-08-31T09:14:54.400648",
     "exception": false,
     "start_time": "2022-08-31T09:14:54.373115",
     "status": "completed"
    },
    "tags": []
   },
   "outputs": [],
   "source": [
    "cat_feat = list()\n",
    "num_feat = list()\n",
    "for col in train.columns:\n",
    "    if col in ['failure','id']:\n",
    "        continue\n",
    "    if train[col].dtype==\"O\":\n",
    "        cat_feat.append(col)\n",
    "    else:\n",
    "        num_feat.append(col)"
   ]
  },
  {
   "cell_type": "markdown",
   "id": "712d2f35",
   "metadata": {
    "papermill": {
     "duration": 0.015261,
     "end_time": "2022-08-31T09:14:54.473396",
     "exception": false,
     "start_time": "2022-08-31T09:14:54.458135",
     "status": "completed"
    },
    "tags": []
   },
   "source": [
    "### Loading Feature \n",
    "\n",
    "The loading feature seems to have right skewed distribution.\n",
    "\n",
    "Let's apply log transformation to make the distribution more normal."
   ]
  },
  {
   "cell_type": "code",
   "execution_count": 4,
   "id": "6b71adb2",
   "metadata": {
    "execution": {
     "iopub.execute_input": "2022-08-31T09:14:57.139054Z",
     "iopub.status.busy": "2022-08-31T09:14:57.138589Z",
     "iopub.status.idle": "2022-08-31T09:14:57.146282Z",
     "shell.execute_reply": "2022-08-31T09:14:57.145040Z"
    },
    "papermill": {
     "duration": 0.031775,
     "end_time": "2022-08-31T09:14:57.150463",
     "exception": false,
     "start_time": "2022-08-31T09:14:57.118688",
     "status": "completed"
    },
    "tags": []
   },
   "outputs": [
    {
     "name": "stdout",
     "output_type": "stream",
     "text": [
      "target mean --> 0.21260820474219044\n"
     ]
    }
   ],
   "source": [
    "target = train.pop('failure')\n",
    "target_mean = np.mean(target)\n",
    "print(f\"target mean --> {target_mean}\")"
   ]
  },
  {
   "cell_type": "code",
   "execution_count": 5,
   "id": "4c59dc6a",
   "metadata": {
    "execution": {
     "iopub.execute_input": "2022-08-31T09:14:57.189673Z",
     "iopub.status.busy": "2022-08-31T09:14:57.189273Z",
     "iopub.status.idle": "2022-08-31T09:14:57.203918Z",
     "shell.execute_reply": "2022-08-31T09:14:57.203057Z"
    },
    "papermill": {
     "duration": 0.036411,
     "end_time": "2022-08-31T09:14:57.206165",
     "exception": false,
     "start_time": "2022-08-31T09:14:57.169754",
     "status": "completed"
    },
    "tags": []
   },
   "outputs": [
    {
     "data": {
      "text/plain": [
       "((26570, 25), (20775, 25))"
      ]
     },
     "execution_count": 5,
     "metadata": {},
     "output_type": "execute_result"
    }
   ],
   "source": [
    "data = pd.concat([train, test])\n",
    "train.shape,test.shape"
   ]
  },
  {
   "cell_type": "code",
   "execution_count": 6,
   "id": "da447216",
   "metadata": {
    "execution": {
     "iopub.execute_input": "2022-08-31T09:14:57.245085Z",
     "iopub.status.busy": "2022-08-31T09:14:57.244085Z",
     "iopub.status.idle": "2022-08-31T09:14:57.266858Z",
     "shell.execute_reply": "2022-08-31T09:14:57.265634Z"
    },
    "papermill": {
     "duration": 0.045281,
     "end_time": "2022-08-31T09:14:57.269676",
     "exception": false,
     "start_time": "2022-08-31T09:14:57.224395",
     "status": "completed"
    },
    "tags": []
   },
   "outputs": [],
   "source": [
    "data['m3_missing'] = data['measurement_3'].isnull().astype(np.int8)\n",
    "data['m5_missing'] = data['measurement_5'].isnull().astype(np.int8)\n",
    "data['area'] = data['attribute_2'] * data['attribute_3']\n",
    "\n",
    "data['loading'] = np.log(data['loading'])\n",
    "data['count_null'] = data.isnull().sum(axis=1)\n",
    "\n",
    "feature = [f for f in test.columns if f.startswith('measurement') or f=='loading']"
   ]
  },
  {
   "cell_type": "code",
   "execution_count": 7,
   "id": "c1315922",
   "metadata": {
    "execution": {
     "iopub.execute_input": "2022-08-31T09:14:57.392044Z",
     "iopub.status.busy": "2022-08-31T09:14:57.390807Z",
     "iopub.status.idle": "2022-08-31T09:14:58.277288Z",
     "shell.execute_reply": "2022-08-31T09:14:58.275985Z"
    },
    "papermill": {
     "duration": 0.909372,
     "end_time": "2022-08-31T09:14:58.280470",
     "exception": false,
     "start_time": "2022-08-31T09:14:57.371098",
     "status": "completed"
    },
    "tags": []
   },
   "outputs": [],
   "source": [
    "full_fill_dict ={}\n",
    "full_fill_dict['measurement_17'] = {\n",
    "    'A': ['measurement_5','measurement_6','measurement_8','measurement_7'],\n",
    "    'B': ['measurement_4','measurement_5','measurement_7','measurement_9'],\n",
    "    'C': ['measurement_5','measurement_7','measurement_8','measurement_9'],\n",
    "    'D': ['measurement_5','measurement_6','measurement_7','measurement_8'],\n",
    "    'E': ['measurement_4','measurement_5','measurement_6','measurement_8'],\n",
    "    'F': ['measurement_4','measurement_5','measurement_6','measurement_7'],\n",
    "    'G': ['measurement_4','measurement_6','measurement_8','measurement_9'],\n",
    "    'H': ['measurement_4','measurement_5','measurement_7','measurement_8','measurement_9'],\n",
    "    'I': ['measurement_3','measurement_7','measurement_8','measurement_9']\n",
    "}\n",
    "\n",
    "#收集按相關性排序的下 10 個最佳測量row的名稱：\n",
    "col = [col for col in test.columns if 'measurement' not in col]+ ['loading','m3_missing','m5_missing']\n",
    "a = []\n",
    "b =[]\n",
    "\n",
    "for x in range(3,17):\n",
    "    corr = np.absolute(data.drop(col, axis=1).corr()[f'measurement_{x}']).sort_values(ascending=False)\n",
    "    a.append(np.round(np.sum(corr[1:4]),3)) #我們添加相關值的前 3 column以獲得最相關\n",
    "    b.append(f'measurement_{x}')\n",
    "c = pd.DataFrame()\n",
    "c['Selected columns'] = b\n",
    "c['correlation total'] = a"
   ]
  },
  {
   "cell_type": "code",
   "execution_count": 8,
   "id": "85db320f",
   "metadata": {
    "execution": {
     "iopub.execute_input": "2022-08-31T09:14:58.318715Z",
     "iopub.status.busy": "2022-08-31T09:14:58.318315Z",
     "iopub.status.idle": "2022-08-31T09:14:58.333190Z",
     "shell.execute_reply": "2022-08-31T09:14:58.332032Z"
    },
    "papermill": {
     "duration": 0.036988,
     "end_time": "2022-08-31T09:14:58.335811",
     "exception": false,
     "start_time": "2022-08-31T09:14:58.298823",
     "status": "completed"
    },
    "tags": []
   },
   "outputs": [
    {
     "name": "stdout",
     "output_type": "stream",
     "text": [
      "Columns selected by correlation sum of the 3 first rows : \n"
     ]
    },
    {
     "data": {
      "text/html": [
       "<div>\n",
       "<style scoped>\n",
       "    .dataframe tbody tr th:only-of-type {\n",
       "        vertical-align: middle;\n",
       "    }\n",
       "\n",
       "    .dataframe tbody tr th {\n",
       "        vertical-align: top;\n",
       "    }\n",
       "\n",
       "    .dataframe thead th {\n",
       "        text-align: right;\n",
       "    }\n",
       "</style>\n",
       "<table border=\"1\" class=\"dataframe\">\n",
       "  <thead>\n",
       "    <tr style=\"text-align: right;\">\n",
       "      <th></th>\n",
       "      <th>Selected columns</th>\n",
       "      <th>correlation total</th>\n",
       "    </tr>\n",
       "  </thead>\n",
       "  <tbody>\n",
       "    <tr>\n",
       "      <th>0</th>\n",
       "      <td>measurement_8</td>\n",
       "      <td>0.448</td>\n",
       "    </tr>\n",
       "    <tr>\n",
       "      <th>1</th>\n",
       "      <td>measurement_11</td>\n",
       "      <td>0.395</td>\n",
       "    </tr>\n",
       "    <tr>\n",
       "      <th>2</th>\n",
       "      <td>measurement_5</td>\n",
       "      <td>0.376</td>\n",
       "    </tr>\n",
       "    <tr>\n",
       "      <th>3</th>\n",
       "      <td>measurement_6</td>\n",
       "      <td>0.359</td>\n",
       "    </tr>\n",
       "    <tr>\n",
       "      <th>4</th>\n",
       "      <td>measurement_7</td>\n",
       "      <td>0.330</td>\n",
       "    </tr>\n",
       "    <tr>\n",
       "      <th>5</th>\n",
       "      <td>measurement_4</td>\n",
       "      <td>0.328</td>\n",
       "    </tr>\n",
       "    <tr>\n",
       "      <th>6</th>\n",
       "      <td>measurement_15</td>\n",
       "      <td>0.301</td>\n",
       "    </tr>\n",
       "    <tr>\n",
       "      <th>7</th>\n",
       "      <td>measurement_10</td>\n",
       "      <td>0.300</td>\n",
       "    </tr>\n",
       "    <tr>\n",
       "      <th>8</th>\n",
       "      <td>measurement_16</td>\n",
       "      <td>0.252</td>\n",
       "    </tr>\n",
       "    <tr>\n",
       "      <th>9</th>\n",
       "      <td>measurement_14</td>\n",
       "      <td>0.225</td>\n",
       "    </tr>\n",
       "  </tbody>\n",
       "</table>\n",
       "</div>"
      ],
      "text/plain": [
       "  Selected columns  correlation total\n",
       "0    measurement_8              0.448\n",
       "1   measurement_11              0.395\n",
       "2    measurement_5              0.376\n",
       "3    measurement_6              0.359\n",
       "4    measurement_7              0.330\n",
       "5    measurement_4              0.328\n",
       "6   measurement_15              0.301\n",
       "7   measurement_10              0.300\n",
       "8   measurement_16              0.252\n",
       "9   measurement_14              0.225"
      ]
     },
     "metadata": {},
     "output_type": "display_data"
    }
   ],
   "source": [
    "c = c.sort_values(by = 'correlation total',ascending=False).reset_index(drop = True)\n",
    "print(f'Columns selected by correlation sum of the 3 first rows : ')\n",
    "display(c.head(10))"
   ]
  },
  {
   "cell_type": "code",
   "execution_count": 9,
   "id": "ce037627",
   "metadata": {
    "execution": {
     "iopub.execute_input": "2022-08-31T09:14:58.374681Z",
     "iopub.status.busy": "2022-08-31T09:14:58.373962Z",
     "iopub.status.idle": "2022-08-31T09:14:59.588768Z",
     "shell.execute_reply": "2022-08-31T09:14:59.587416Z"
    },
    "papermill": {
     "duration": 1.23747,
     "end_time": "2022-08-31T09:14:59.591589",
     "exception": false,
     "start_time": "2022-08-31T09:14:58.354119",
     "status": "completed"
    },
    "tags": []
   },
   "outputs": [],
   "source": [
    "\n",
    "#計算每個測量row的前 4 個相關特徵 w.r.t 的每個產品代碼\n",
    "for i in range(10):\n",
    "    measurement_col = 'measurement_' + c.iloc[i,0][12:] # 選擇下一個最佳相關的row\n",
    "    fill_dict = {}\n",
    "    for x in data.product_code.unique() : \n",
    "        corr = np.absolute(data[data.product_code == x].drop(col, axis=1)\n",
    "                           .corr()[measurement_col]).sort_values(ascending=False)\n",
    "\n",
    "        measurement_col_dic = {}\n",
    "        measurement_col_dic[measurement_col] = corr[1:5].index.tolist()\n",
    "        fill_dict[x] = measurement_col_dic[measurement_col]\n",
    "\n",
    "    full_fill_dict[measurement_col] =fill_dict"
   ]
  },
  {
   "cell_type": "code",
   "execution_count": 10,
   "id": "b8b4d0e5",
   "metadata": {
    "execution": {
     "iopub.execute_input": "2022-08-31T09:14:59.630583Z",
     "iopub.status.busy": "2022-08-31T09:14:59.630169Z",
     "iopub.status.idle": "2022-08-31T09:14:59.647879Z",
     "shell.execute_reply": "2022-08-31T09:14:59.646398Z"
    },
    "papermill": {
     "duration": 0.040384,
     "end_time": "2022-08-31T09:14:59.650621",
     "exception": false,
     "start_time": "2022-08-31T09:14:59.610237",
     "status": "completed"
    },
    "tags": []
   },
   "outputs": [],
   "source": [
    "feature = [f for f in data.columns if f.startswith('measurement') or f=='loading']\n",
    "nullValue_cols = [col for col in train.columns if train[col].isnull().sum()!=0]"
   ]
  },
  {
   "cell_type": "code",
   "execution_count": 11,
   "id": "72c6b770",
   "metadata": {
    "execution": {
     "iopub.execute_input": "2022-08-31T09:14:59.689721Z",
     "iopub.status.busy": "2022-08-31T09:14:59.689270Z",
     "iopub.status.idle": "2022-08-31T09:15:20.277755Z",
     "shell.execute_reply": "2022-08-31T09:15:20.276022Z"
    },
    "papermill": {
     "duration": 20.612242,
     "end_time": "2022-08-31T09:15:20.281472",
     "exception": false,
     "start_time": "2022-08-31T09:14:59.669230",
     "status": "completed"
    },
    "tags": []
   },
   "outputs": [
    {
     "name": "stdout",
     "output_type": "stream",
     "text": [
      "\n",
      "-------- Product code A ----------\n",
      "\n",
      "filled by linear model :\n",
      "measurement_17 : 374\n",
      "measurement_8 : 167\n",
      "measurement_11 : 225\n",
      "measurement_5 : 113\n",
      "measurement_6 : 146\n",
      "measurement_7 : 155\n",
      "measurement_4 : 78\n",
      "measurement_15 : 273\n",
      "measurement_10 : 209\n",
      "measurement_16 : 293\n",
      "measurement_14 : 237\n",
      "\n",
      "2270 filled by linear model \n",
      "1579 filled by KNN \n",
      "\n",
      "-------- Product code B ----------\n",
      "\n",
      "filled by linear model :\n",
      "measurement_17 : 397\n",
      "measurement_8 : 165\n",
      "measurement_11 : 220\n",
      "measurement_5 : 83\n",
      "measurement_6 : 106\n",
      "measurement_7 : 174\n",
      "measurement_4 : 80\n",
      "measurement_15 : 294\n",
      "measurement_10 : 197\n",
      "measurement_16 : 358\n",
      "measurement_14 : 330\n",
      "\n",
      "2404 filled by linear model \n",
      "1571 filled by KNN \n",
      "\n",
      "-------- Product code C ----------\n",
      "\n",
      "filled by linear model :\n",
      "measurement_17 : 391\n",
      "measurement_8 : 189\n",
      "measurement_11 : 231\n",
      "measurement_5 : 141\n",
      "measurement_6 : 150\n",
      "measurement_7 : 140\n",
      "measurement_4 : 108\n",
      "measurement_15 : 319\n",
      "measurement_10 : 262\n",
      "measurement_16 : 343\n",
      "measurement_14 : 330\n",
      "\n",
      "2604 filled by linear model \n",
      "1740 filled by KNN \n",
      "\n",
      "-------- Product code D ----------\n",
      "\n",
      "filled by linear model :\n",
      "measurement_17 : 398\n",
      "measurement_8 : 134\n",
      "measurement_11 : 265\n",
      "measurement_5 : 87\n",
      "measurement_6 : 118\n",
      "measurement_7 : 146\n",
      "measurement_4 : 88\n",
      "measurement_15 : 313\n",
      "measurement_10 : 174\n",
      "measurement_16 : 322\n",
      "measurement_14 : 293\n",
      "\n",
      "2338 filled by linear model \n",
      "1635 filled by KNN \n",
      "\n",
      "-------- Product code E ----------\n",
      "\n",
      "filled by linear model :\n",
      "measurement_17 : 429\n",
      "measurement_8 : 171\n",
      "measurement_11 : 244\n",
      "measurement_5 : 113\n",
      "measurement_6 : 118\n",
      "measurement_7 : 185\n",
      "measurement_4 : 105\n",
      "measurement_15 : 315\n",
      "measurement_10 : 193\n",
      "measurement_16 : 316\n",
      "measurement_14 : 297\n",
      "\n",
      "2486 filled by linear model \n",
      "1646 filled by KNN \n",
      "\n",
      "-------- Product code F ----------\n",
      "\n",
      "filled by linear model :\n",
      "measurement_17 : 420\n",
      "measurement_8 : 194\n",
      "measurement_11 : 226\n",
      "measurement_5 : 90\n",
      "measurement_6 : 137\n",
      "measurement_7 : 147\n",
      "measurement_4 : 91\n",
      "measurement_15 : 333\n",
      "measurement_10 : 186\n",
      "measurement_16 : 356\n",
      "measurement_14 : 348\n",
      "\n",
      "2528 filled by linear model \n",
      "1545 filled by KNN \n",
      "\n",
      "-------- Product code G ----------\n",
      "\n",
      "filled by linear model :\n",
      "measurement_17 : 373\n",
      "measurement_8 : 188\n",
      "measurement_11 : 221\n",
      "measurement_5 : 104\n",
      "measurement_6 : 146\n",
      "measurement_7 : 145\n",
      "measurement_4 : 93\n",
      "measurement_15 : 299\n",
      "measurement_10 : 226\n",
      "measurement_16 : 343\n",
      "measurement_14 : 268\n",
      "\n",
      "2406 filled by linear model \n",
      "1518 filled by KNN \n",
      "\n",
      "-------- Product code H ----------\n",
      "\n",
      "filled by linear model :\n",
      "measurement_17 : 361\n",
      "measurement_8 : 147\n",
      "measurement_11 : 205\n",
      "measurement_5 : 112\n",
      "measurement_6 : 121\n",
      "measurement_7 : 158\n",
      "measurement_4 : 75\n",
      "measurement_15 : 299\n",
      "measurement_10 : 217\n",
      "measurement_16 : 340\n",
      "measurement_14 : 283\n",
      "\n",
      "2318 filled by linear model \n",
      "1565 filled by KNN \n",
      "\n",
      "-------- Product code I ----------\n",
      "\n",
      "filled by linear model :\n",
      "measurement_17 : 358\n",
      "measurement_8 : 192\n",
      "measurement_11 : 209\n",
      "measurement_5 : 119\n",
      "measurement_6 : 131\n",
      "measurement_7 : 136\n",
      "measurement_4 : 88\n",
      "measurement_15 : 350\n",
      "measurement_10 : 246\n",
      "measurement_16 : 294\n",
      "measurement_14 : 283\n",
      "\n",
      "2406 filled by linear model \n",
      "1423 filled by KNN \n"
     ]
    }
   ],
   "source": [
    "#使用 HuberRegressor 和 KNNImputer 填充 NA 值\n",
    "\n",
    "\n",
    "for code in data.product_code.unique():\n",
    "    total_na_filled_by_linear_model = 0\n",
    "    print(f'\\n-------- Product code {code} ----------\\n')\n",
    "    print(f'filled by linear model :')\n",
    "    for measurement_col in list(full_fill_dict.keys()):\n",
    "        tmp = data[data.product_code == code]\n",
    "        column = full_fill_dict[measurement_col][code]\n",
    "        tmp_train = tmp[column+[measurement_col]].dropna(how='any')\n",
    "        tmp_test = tmp[(tmp[column].isnull().sum(axis=1)==0)&(tmp[measurement_col].isnull())]\n",
    "\n",
    "        model = HuberRegressor(epsilon=1.9)\n",
    "        model.fit(tmp_train[column], tmp_train[measurement_col])\n",
    "        data.loc[(data.product_code==code)&(data[column].isnull().sum(axis=1)==0)\n",
    "                 &(data[measurement_col].isnull()),measurement_col] = model.predict(tmp_test[column])\n",
    "        print(f'{measurement_col} : {len(tmp_test)}')\n",
    "        total_na_filled_by_linear_model += len(tmp_test)\n",
    "        \n",
    "    # 其他 NA columns:\n",
    "    NA = data.loc[data[\"product_code\"] == code,nullValue_cols ].isnull().sum().sum()\n",
    "    model1 = KNNImputer(n_neighbors=3)\n",
    "    data.loc[data.product_code==code, feature] = model1.fit_transform(data.loc[data.product_code==code, feature])\n",
    "    print(f'\\n{total_na_filled_by_linear_model} filled by linear model ') \n",
    "    print(f'{NA} filled by KNN ')"
   ]
  },
  {
   "cell_type": "code",
   "execution_count": 12,
   "id": "17de49e5",
   "metadata": {
    "execution": {
     "iopub.execute_input": "2022-08-31T09:15:20.328387Z",
     "iopub.status.busy": "2022-08-31T09:15:20.327980Z",
     "iopub.status.idle": "2022-08-31T09:15:20.403559Z",
     "shell.execute_reply": "2022-08-31T09:15:20.402394Z"
    },
    "papermill": {
     "duration": 0.102566,
     "end_time": "2022-08-31T09:15:20.406730",
     "exception": false,
     "start_time": "2022-08-31T09:15:20.304164",
     "status": "completed"
    },
    "tags": []
   },
   "outputs": [],
   "source": [
    "data['measurement_avg'] = data[[f'measurement_{i}' for i in range(3, 17)]].mean(axis=1)\n",
    "df_train = data.iloc[:train.shape[0],:]\n",
    "df_test = data.iloc[train.shape[0]:,:]\n",
    "\n",
    "woe_encoder = WoEEncoder(variables=['attribute_0'])\n",
    "woe_encoder.fit(df_train, target)\n",
    "df_train = woe_encoder.transform(df_train)\n",
    "df_test = woe_encoder.transform(df_test)"
   ]
  },
  {
   "cell_type": "code",
   "execution_count": 13,
   "id": "12421362",
   "metadata": {
    "execution": {
     "iopub.execute_input": "2022-08-31T09:15:20.453582Z",
     "iopub.status.busy": "2022-08-31T09:15:20.453194Z",
     "iopub.status.idle": "2022-08-31T09:15:20.463646Z",
     "shell.execute_reply": "2022-08-31T09:15:20.462193Z"
    },
    "papermill": {
     "duration": 0.036732,
     "end_time": "2022-08-31T09:15:20.466128",
     "exception": false,
     "start_time": "2022-08-31T09:15:20.429396",
     "status": "completed"
    },
    "tags": []
   },
   "outputs": [],
   "source": [
    "df_train['measurement(3*5)'] = df_train['measurement_3'] * df_train['measurement_5']\n",
    "df_test['measurement(3*5)'] = df_test['measurement_3'] * df_test['measurement_5']\n",
    "\n",
    "df_train['missing(3*5)'] = df_train['m5_missing'] * (df_train['m3_missing'])\n",
    "df_test['missing(3*5)'] = df_test['m5_missing'] * (df_test['m3_missing'])"
   ]
  },
  {
   "cell_type": "code",
   "execution_count": 14,
   "id": "5117290b",
   "metadata": {
    "execution": {
     "iopub.execute_input": "2022-08-31T09:15:20.565946Z",
     "iopub.status.busy": "2022-08-31T09:15:20.565134Z",
     "iopub.status.idle": "2022-08-31T09:15:20.571807Z",
     "shell.execute_reply": "2022-08-31T09:15:20.570926Z"
    },
    "papermill": {
     "duration": 0.033429,
     "end_time": "2022-08-31T09:15:20.574273",
     "exception": false,
     "start_time": "2022-08-31T09:15:20.540844",
     "status": "completed"
    },
    "tags": []
   },
   "outputs": [],
   "source": [
    "\n",
    "features = ['loading','measurement_17','m3_missing','m5_missing',]\n",
    "\n",
    "df_train['failure'] = target"
   ]
  },
  {
   "cell_type": "markdown",
   "id": "1126e721",
   "metadata": {
    "papermill": {
     "duration": 0.023135,
     "end_time": "2022-08-31T09:15:20.619702",
     "exception": false,
     "start_time": "2022-08-31T09:15:20.596567",
     "status": "completed"
    },
    "tags": []
   },
   "source": [
    "### Standard Scaler"
   ]
  },
  {
   "cell_type": "code",
   "execution_count": 15,
   "id": "67493d48",
   "metadata": {
    "execution": {
     "iopub.execute_input": "2022-08-31T09:15:20.666835Z",
     "iopub.status.busy": "2022-08-31T09:15:20.666080Z",
     "iopub.status.idle": "2022-08-31T09:15:20.672796Z",
     "shell.execute_reply": "2022-08-31T09:15:20.671864Z"
    },
    "papermill": {
     "duration": 0.032856,
     "end_time": "2022-08-31T09:15:20.675288",
     "exception": false,
     "start_time": "2022-08-31T09:15:20.642432",
     "status": "completed"
    },
    "tags": []
   },
   "outputs": [],
   "source": [
    "def scale(train_data, val_data, test_data, feats):\n",
    "    scaler = StandardScaler()\n",
    "    scaled_train = scaler.fit_transform(train_data[feats])\n",
    "    scaled_val = scaler.transform(val_data[feats])\n",
    "    scaled_test = scaler.transform(test_data[feats])\n",
    "    new_train = train_data.copy()\n",
    "    new_val = val_data.copy()\n",
    "    new_test = test_data.copy()\n",
    "    new_train[feats] = scaled_train\n",
    "    new_val[feats] = scaled_val\n",
    "    new_test[feats] = scaled_test\n",
    "    return new_train, new_val, new_test"
   ]
  },
  {
   "cell_type": "markdown",
   "id": "86a04a59",
   "metadata": {
    "papermill": {
     "duration": 0.021975,
     "end_time": "2022-08-31T09:15:20.719623",
     "exception": false,
     "start_time": "2022-08-31T09:15:20.697648",
     "status": "completed"
    },
    "tags": []
   },
   "source": [
    "### Logistic Regression"
   ]
  },
  {
   "cell_type": "code",
   "execution_count": 16,
   "id": "90c74d74",
   "metadata": {
    "execution": {
     "iopub.execute_input": "2022-08-31T09:15:20.766792Z",
     "iopub.status.busy": "2022-08-31T09:15:20.766040Z",
     "iopub.status.idle": "2022-08-31T09:15:22.549813Z",
     "shell.execute_reply": "2022-08-31T09:15:22.548877Z"
    },
    "papermill": {
     "duration": 1.810089,
     "end_time": "2022-08-31T09:15:22.552447",
     "exception": false,
     "start_time": "2022-08-31T09:15:20.742358",
     "status": "completed"
    },
    "tags": []
   },
   "outputs": [
    {
     "name": "stdout",
     "output_type": "stream",
     "text": [
      "******* Fold 0 ******* \n",
      "VAL_ROC-AUC: 0.589246\n",
      "******* Fold 1 ******* \n",
      "VAL_ROC-AUC: 0.592352\n",
      "******* Fold 2 ******* \n",
      "VAL_ROC-AUC: 0.591732\n",
      "******* Fold 3 ******* \n",
      "VAL_ROC-AUC: 0.589075\n",
      "******* Fold 4 ******* \n",
      "VAL_ROC-AUC: 0.579772\n",
      "******* Fold 5 ******* \n",
      "VAL_ROC-AUC: 0.599812\n",
      "\u001b[32m\u001b[1mAverage auc = 0.590331\u001b[0m\n",
      "\u001b[34m\u001b[1mOOF auc = 0.590205\u001b[0m\n"
     ]
    }
   ],
   "source": [
    "import pickle\n",
    "N_FOLDS = 6\n",
    "skf = StratifiedKFold(n_splits=N_FOLDS, shuffle=True, random_state=30)\n",
    "y_oof = np.zeros(df_train[features].shape[0])\n",
    "y_test = np.zeros(df_test[features].shape[0])\n",
    "logistic_auc = 0\n",
    "ix = 0\n",
    "feature_importance = []\n",
    "lg_model=[]\n",
    "\n",
    "sm = SMOTE(random_state = 42, n_jobs = -1)\n",
    "\n",
    "for train_ind, val_ind in skf.split(df_train[features], df_train[['failure']]):\n",
    "    print(f\"******* Fold {ix} ******* \")\n",
    "    tr_x, val_x = (\n",
    "        df_train[features].iloc[train_ind].reset_index(drop=True),\n",
    "        df_train[features].iloc[val_ind].reset_index(drop=True),\n",
    "    )\n",
    "    tr_y, val_y = (\n",
    "        df_train['failure'].iloc[train_ind].reset_index(drop=True),\n",
    "        df_train['failure'].iloc[val_ind].reset_index(drop=True),\n",
    "    )\n",
    "    \n",
    "    tr_x,val_x,test_x = scale(tr_x, val_x, df_test[features], features)\n",
    "    \n",
    "    tr_x, tr_y = sm.fit_resample(tr_x, tr_y)\n",
    "    clf = LogisticRegression(max_iter=700, C=0.0001, penalty='l2',solver='newton-cg')\n",
    "    \n",
    "    clf.fit(tr_x, tr_y)\n",
    "    \n",
    "    feature_importance.append(clf.coef_.ravel())\n",
    "    preds = clf.predict_proba(val_x)[:,1]\n",
    "    \n",
    "    roc_score = roc_auc_score(val_y, preds)\n",
    "    \n",
    "    logistic_auc += roc_score/N_FOLDS\n",
    "\n",
    "    print('VAL_ROC-AUC:', round(roc_score, 6))\n",
    "    \n",
    "    y_oof[val_ind] = y_oof[val_ind] + preds\n",
    "\n",
    "    preds_test = clf.predict_proba(test_x)[:,1]\n",
    "    lg_model.append(preds_test)\n",
    "    y_test = y_test + preds_test / N_FOLDS\n",
    "    ix = ix + 1\n",
    "    if(ix==6):\n",
    "        with open('model.pickle', 'wb') as f:\n",
    "            pickle.dump(clf, f)\n",
    "    \n",
    "print(f\"{Fore.GREEN}{Style.BRIGHT}Average auc = {round(logistic_auc, 6)}{Style.RESET_ALL}\")\n",
    "print(f\"{Fore.BLUE}{Style.BRIGHT}OOF auc = {round(roc_auc_score(df_train[['failure']], y_oof), 6)}{Style.RESET_ALL}\")\n"
   ]
  }
 ],
 "metadata": {
  "kernelspec": {
   "display_name": "base",
   "language": "python",
   "name": "python3"
  },
  "language_info": {
   "codemirror_mode": {
    "name": "ipython",
    "version": 3
   },
   "file_extension": ".py",
   "mimetype": "text/x-python",
   "name": "python",
   "nbconvert_exporter": "python",
   "pygments_lexer": "ipython3",
   "version": "3.9.7"
  },
  "papermill": {
   "default_parameters": {},
   "duration": 90.066939,
   "end_time": "2022-08-31T09:15:24.266998",
   "environment_variables": {},
   "exception": null,
   "input_path": "__notebook__.ipynb",
   "output_path": "__notebook__.ipynb",
   "parameters": {},
   "start_time": "2022-08-31T09:13:54.200059",
   "version": "2.3.4"
  },
  "vscode": {
   "interpreter": {
    "hash": "a077222d77dfe082b8f1dd562ad70e458ac2ab76993a0b248ab0476e32e9e8dd"
   }
  }
 },
 "nbformat": 4,
 "nbformat_minor": 5
}
